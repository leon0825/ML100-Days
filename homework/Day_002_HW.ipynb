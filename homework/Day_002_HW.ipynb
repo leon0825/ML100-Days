{
 "cells": [
  {
   "cell_type": "markdown",
   "metadata": {},
   "source": [
    "## 練習時間\n",
    "資料的操作有很多，接下來的馬拉松中我們會介紹常被使用到的操作，參加者不妨先自行想像一下，第一次看到資料，我們一般會想知道什麼訊息？\n",
    "\n",
    "#### Ex: 如何知道資料的 row 數以及 column 數、有什麼欄位、多少欄位、如何截取部分的資料等等\n",
    "\n",
    "有了對資料的好奇之後，我們又怎麼通過程式碼來達成我們的目的呢？\n",
    "\n",
    "#### 可參考該[基礎教材](https://bookdata.readthedocs.io/en/latest/base/01_pandas.html#DataFrame-%E5%85%A5%E9%97%A8)或自行 google"
   ]
  },
  {
   "cell_type": "code",
   "execution_count": 1,
   "metadata": {},
   "outputs": [],
   "source": [
    "import os\n",
    "import numpy as np\n",
    "import pandas as pd"
   ]
  },
  {
   "cell_type": "code",
   "execution_count": 2,
   "metadata": {},
   "outputs": [],
   "source": [
    "# 設定 data_path\n",
    "dir_data = './data/'"
   ]
  },
  {
   "cell_type": "code",
   "execution_count": 3,
   "metadata": {},
   "outputs": [
    {
     "name": "stdout",
     "output_type": "stream",
     "text": [
      "Path of read in data: ./data/application_train.csv\n"
     ]
    }
   ],
   "source": [
    "f_app = os.path.join(dir_data, 'application_train.csv')\n",
    "print('Path of read in data: %s' % (f_app))\n",
    "app_train = pd.read_csv(f_app)"
   ]
  },
  {
   "cell_type": "markdown",
   "metadata": {},
   "source": [
    "### 如果沒有想法，可以先嘗試找出剛剛例子中提到的問題的答案\n",
    "#### 資料的 row 數以及 column 數"
   ]
  },
  {
   "cell_type": "code",
   "execution_count": 4,
   "metadata": {},
   "outputs": [
    {
     "name": "stdout",
     "output_type": "stream",
     "text": [
      "row 數: 307511, column 數: 122\n"
     ]
    }
   ],
   "source": [
    "print('row 數: {0}, column 數: {1}'.format(app_train.shape[0], app_train.shape[1]))"
   ]
  },
  {
   "cell_type": "markdown",
   "metadata": {},
   "source": [
    "#### 列出所有欄位"
   ]
  },
  {
   "cell_type": "code",
   "execution_count": 5,
   "metadata": {},
   "outputs": [
    {
     "name": "stdout",
     "output_type": "stream",
     "text": [
      "SK_ID_CURR                              TARGET                                  NAME_CONTRACT_TYPE                      \n",
      "CODE_GENDER                             FLAG_OWN_CAR                            FLAG_OWN_REALTY                         \n",
      "CNT_CHILDREN                            AMT_INCOME_TOTAL                        AMT_CREDIT                              \n",
      "AMT_ANNUITY                             AMT_GOODS_PRICE                         NAME_TYPE_SUITE                         \n",
      "NAME_INCOME_TYPE                        NAME_EDUCATION_TYPE                     NAME_FAMILY_STATUS                      \n",
      "NAME_HOUSING_TYPE                       REGION_POPULATION_RELATIVE              DAYS_BIRTH                              \n",
      "DAYS_EMPLOYED                           DAYS_REGISTRATION                       DAYS_ID_PUBLISH                         \n",
      "OWN_CAR_AGE                             FLAG_MOBIL                              FLAG_EMP_PHONE                          \n",
      "FLAG_WORK_PHONE                         FLAG_CONT_MOBILE                        FLAG_PHONE                              \n",
      "FLAG_EMAIL                              OCCUPATION_TYPE                         CNT_FAM_MEMBERS                         \n",
      "REGION_RATING_CLIENT                    REGION_RATING_CLIENT_W_CITY             WEEKDAY_APPR_PROCESS_START              \n",
      "HOUR_APPR_PROCESS_START                 REG_REGION_NOT_LIVE_REGION              REG_REGION_NOT_WORK_REGION              \n",
      "LIVE_REGION_NOT_WORK_REGION             REG_CITY_NOT_LIVE_CITY                  REG_CITY_NOT_WORK_CITY                  \n",
      "LIVE_CITY_NOT_WORK_CITY                 ORGANIZATION_TYPE                       EXT_SOURCE_1                            \n",
      "EXT_SOURCE_2                            EXT_SOURCE_3                            APARTMENTS_AVG                          \n",
      "BASEMENTAREA_AVG                        YEARS_BEGINEXPLUATATION_AVG             YEARS_BUILD_AVG                         \n",
      "COMMONAREA_AVG                          ELEVATORS_AVG                           ENTRANCES_AVG                           \n",
      "FLOORSMAX_AVG                           FLOORSMIN_AVG                           LANDAREA_AVG                            \n",
      "LIVINGAPARTMENTS_AVG                    LIVINGAREA_AVG                          NONLIVINGAPARTMENTS_AVG                 \n",
      "NONLIVINGAREA_AVG                       APARTMENTS_MODE                         BASEMENTAREA_MODE                       \n",
      "YEARS_BEGINEXPLUATATION_MODE            YEARS_BUILD_MODE                        COMMONAREA_MODE                         \n",
      "ELEVATORS_MODE                          ENTRANCES_MODE                          FLOORSMAX_MODE                          \n",
      "FLOORSMIN_MODE                          LANDAREA_MODE                           LIVINGAPARTMENTS_MODE                   \n",
      "LIVINGAREA_MODE                         NONLIVINGAPARTMENTS_MODE                NONLIVINGAREA_MODE                      \n",
      "APARTMENTS_MEDI                         BASEMENTAREA_MEDI                       YEARS_BEGINEXPLUATATION_MEDI            \n",
      "YEARS_BUILD_MEDI                        COMMONAREA_MEDI                         ELEVATORS_MEDI                          \n",
      "ENTRANCES_MEDI                          FLOORSMAX_MEDI                          FLOORSMIN_MEDI                          \n",
      "LANDAREA_MEDI                           LIVINGAPARTMENTS_MEDI                   LIVINGAREA_MEDI                         \n",
      "NONLIVINGAPARTMENTS_MEDI                NONLIVINGAREA_MEDI                      FONDKAPREMONT_MODE                      \n",
      "HOUSETYPE_MODE                          TOTALAREA_MODE                          WALLSMATERIAL_MODE                      \n",
      "EMERGENCYSTATE_MODE                     OBS_30_CNT_SOCIAL_CIRCLE                DEF_30_CNT_SOCIAL_CIRCLE                \n",
      "OBS_60_CNT_SOCIAL_CIRCLE                DEF_60_CNT_SOCIAL_CIRCLE                DAYS_LAST_PHONE_CHANGE                  \n",
      "FLAG_DOCUMENT_2                         FLAG_DOCUMENT_3                         FLAG_DOCUMENT_4                         \n",
      "FLAG_DOCUMENT_5                         FLAG_DOCUMENT_6                         FLAG_DOCUMENT_7                         \n",
      "FLAG_DOCUMENT_8                         FLAG_DOCUMENT_9                         FLAG_DOCUMENT_10                        \n",
      "FLAG_DOCUMENT_11                        FLAG_DOCUMENT_12                        FLAG_DOCUMENT_13                        \n",
      "FLAG_DOCUMENT_14                        FLAG_DOCUMENT_15                        FLAG_DOCUMENT_16                        \n",
      "FLAG_DOCUMENT_17                        FLAG_DOCUMENT_18                        FLAG_DOCUMENT_19                        \n",
      "FLAG_DOCUMENT_20                        FLAG_DOCUMENT_21                        AMT_REQ_CREDIT_BUREAU_HOUR              \n",
      "AMT_REQ_CREDIT_BUREAU_DAY               AMT_REQ_CREDIT_BUREAU_WEEK              AMT_REQ_CREDIT_BUREAU_MON               \n",
      "AMT_REQ_CREDIT_BUREAU_QRT               AMT_REQ_CREDIT_BUREAU_YEAR              "
     ]
    }
   ],
   "source": [
    "for index in range(len(app_train.columns)):\n",
    "    print('{0:<40}'.format(app_train.columns[index]), end='')\n",
    "    if (index + 1) % 3 == 0:\n",
    "        print()"
   ]
  },
  {
   "cell_type": "markdown",
   "metadata": {},
   "source": [
    "#### 截取部分資料"
   ]
  },
  {
   "cell_type": "code",
   "execution_count": 6,
   "metadata": {},
   "outputs": [
    {
     "data": {
      "text/html": [
       "<div>\n",
       "<style scoped>\n",
       "    .dataframe tbody tr th:only-of-type {\n",
       "        vertical-align: middle;\n",
       "    }\n",
       "\n",
       "    .dataframe tbody tr th {\n",
       "        vertical-align: top;\n",
       "    }\n",
       "\n",
       "    .dataframe thead th {\n",
       "        text-align: right;\n",
       "    }\n",
       "</style>\n",
       "<table border=\"1\" class=\"dataframe\">\n",
       "  <thead>\n",
       "    <tr style=\"text-align: right;\">\n",
       "      <th></th>\n",
       "      <th>SK_ID_CURR</th>\n",
       "      <th>TARGET</th>\n",
       "      <th>CODE_GENDER</th>\n",
       "    </tr>\n",
       "  </thead>\n",
       "  <tbody>\n",
       "    <tr>\n",
       "      <th>344</th>\n",
       "      <td>100396</td>\n",
       "      <td>1</td>\n",
       "      <td>M</td>\n",
       "    </tr>\n",
       "    <tr>\n",
       "      <th>368</th>\n",
       "      <td>100424</td>\n",
       "      <td>1</td>\n",
       "      <td>M</td>\n",
       "    </tr>\n",
       "    <tr>\n",
       "      <th>381</th>\n",
       "      <td>100439</td>\n",
       "      <td>1</td>\n",
       "      <td>M</td>\n",
       "    </tr>\n",
       "    <tr>\n",
       "      <th>389</th>\n",
       "      <td>100452</td>\n",
       "      <td>1</td>\n",
       "      <td>M</td>\n",
       "    </tr>\n",
       "    <tr>\n",
       "      <th>408</th>\n",
       "      <td>100472</td>\n",
       "      <td>1</td>\n",
       "      <td>M</td>\n",
       "    </tr>\n",
       "    <tr>\n",
       "      <th>413</th>\n",
       "      <td>100477</td>\n",
       "      <td>1</td>\n",
       "      <td>M</td>\n",
       "    </tr>\n",
       "    <tr>\n",
       "      <th>419</th>\n",
       "      <td>100485</td>\n",
       "      <td>1</td>\n",
       "      <td>M</td>\n",
       "    </tr>\n",
       "    <tr>\n",
       "      <th>424</th>\n",
       "      <td>100490</td>\n",
       "      <td>1</td>\n",
       "      <td>M</td>\n",
       "    </tr>\n",
       "    <tr>\n",
       "      <th>477</th>\n",
       "      <td>100547</td>\n",
       "      <td>1</td>\n",
       "      <td>M</td>\n",
       "    </tr>\n",
       "    <tr>\n",
       "      <th>492</th>\n",
       "      <td>100567</td>\n",
       "      <td>1</td>\n",
       "      <td>M</td>\n",
       "    </tr>\n",
       "  </tbody>\n",
       "</table>\n",
       "</div>"
      ],
      "text/plain": [
       "     SK_ID_CURR  TARGET CODE_GENDER\n",
       "344      100396       1           M\n",
       "368      100424       1           M\n",
       "381      100439       1           M\n",
       "389      100452       1           M\n",
       "408      100472       1           M\n",
       "413      100477       1           M\n",
       "419      100485       1           M\n",
       "424      100490       1           M\n",
       "477      100547       1           M\n",
       "492      100567       1           M"
      ]
     },
     "execution_count": 6,
     "metadata": {},
     "output_type": "execute_result"
    }
   ],
   "source": [
    "app_train.loc[(app_train['TARGET'] == 1) & (app_train['CODE_GENDER'] == 'M'),['SK_ID_CURR', 'TARGET', 'CODE_GENDER']].head(20).tail(10)"
   ]
  },
  {
   "cell_type": "markdown",
   "metadata": {},
   "source": [
    "#### 還有各種數之不盡的資料操作，重點還是取決於實務中遇到的狀況和你想問的問題，在馬拉松中我們也會陸續提到更多例子"
   ]
  },
  {
   "cell_type": "code",
   "execution_count": null,
   "metadata": {},
   "outputs": [],
   "source": []
  }
 ],
 "metadata": {
  "kernelspec": {
   "display_name": "Python 3",
   "language": "python",
   "name": "python3"
  },
  "language_info": {
   "codemirror_mode": {
    "name": "ipython",
    "version": 3
   },
   "file_extension": ".py",
   "mimetype": "text/x-python",
   "name": "python",
   "nbconvert_exporter": "python",
   "pygments_lexer": "ipython3",
   "version": "3.7.0"
  }
 },
 "nbformat": 4,
 "nbformat_minor": 2
}
