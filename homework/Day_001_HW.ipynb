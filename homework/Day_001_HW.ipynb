{
 "cells": [
  {
   "cell_type": "markdown",
   "metadata": {},
   "source": [
    "# 作業1：\n",
    "## 請上 Kaggle, 在 Competitions 或 Dataset 中找一組競賽或資料並寫下：\n",
    "\n",
    "    通過消費者行為進行銷售研究\n",
    "    資抖來源：https://www.kaggle.com/mehdidag/black-friday\n",
    "\n",
    "1. 你選的這組資料為何重要\n",
    "    ANS: 商店希望更好地了解針對不同產品的客戶購買行為。\n",
    "\n",
    "2. 資料從何而來 (tips: 譬如提供者是誰、以什麼方式蒐集)\n",
    "    ANS: 數據集來自Analytics Vidhya主辦的競賽。\n",
    "\n",
    "3. 蒐集而來的資料型態為何\n",
    "    ANS: 以逗號分隔的csv格式Excel檔。資料型態包含：文字、數值。\n",
    "\n",
    "4. 這組資料想解決的問題如何評估\n",
    "    ANS: 依據在不同的消費者階層（性別、年齡...）所產生的消費資訊，來進行分析商品的銷售狀況，以便用來預測商品的銷售。"
   ]
  },
  {
   "cell_type": "markdown",
   "metadata": {},
   "source": [
    "# 作業2：\n",
    "## 想像你經營一個自由載客車隊，你希望能透過數據分析以提升業績，請你思考並描述你如何規劃整體的分析/解決方案：\n",
    "\n",
    "1. 核心問題為何 (tips：如何定義 「提升業績 & 你的假設」)\n",
    "    ANS: a. 分析在不同地區及時段的載客率。依據分析的結果，在不同地區及時段安排出車的數量及密集度，儘量減少空車率。\n",
    "         b. 假設在不同地區及時段，會有不同數量的載客需求。\n",
    "\n",
    "2. 資料從何而來 (tips：哪些資料可能會對你想問的問題產生影響 & 資料如何蒐集)\n",
    "    ANS: 不同地區及時段的人潮流動率及密集度（委外統計）、地區交通的方便性（地區乘車資訊）、車隊現有的載客數據。\n",
    "\n",
    "3. 蒐集而來的資料型態為何\n",
    "    ANS: 統計的數值資料及圖表、地區交通資訊。\n",
    "\n",
    "4. 你要回答的問題，其如何評估 (tips：你的假設如何驗證)\n",
    "    ANS: a. 依據在不同地區及時段，分析出載客的需求量。\n",
    "         b. 依照不同地區及時段的載客量，安排出車的數量及密集度，確認載客率是否有提升。"
   ]
  },
  {
   "cell_type": "markdown",
   "metadata": {},
   "source": [
    "# 作業3"
   ]
  },
  {
   "cell_type": "code",
   "execution_count": null,
   "metadata": {},
   "outputs": [],
   "source": []
  }
 ],
 "metadata": {
  "kernelspec": {
   "display_name": "Python 3",
   "language": "python",
   "name": "python3"
  },
  "language_info": {
   "codemirror_mode": {
    "name": "ipython",
    "version": 3
   },
   "file_extension": ".py",
   "mimetype": "text/x-python",
   "name": "python",
   "nbconvert_exporter": "python",
   "pygments_lexer": "ipython3",
   "version": "3.7.0"
  }
 },
 "nbformat": 4,
 "nbformat_minor": 2
}
