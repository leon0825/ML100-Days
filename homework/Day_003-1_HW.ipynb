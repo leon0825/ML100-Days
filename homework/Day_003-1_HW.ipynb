{
 "cells": [
  {
   "cell_type": "markdown",
   "metadata": {},
   "source": [
    "## 練習時間\n",
    "在小量的資料上，我們用眼睛就可以看得出來程式碼是否有跑出我們理想中的結果\n",
    "\n",
    "請嘗試想像一個你需要的資料結構 (裡面的值可以是隨機的)，然後用上述的方法把它變成 pandas DataFrame\n",
    "\n",
    "#### Ex: 想像一個 dataframe 有兩個欄位，一個是國家，一個是人口，求人口數最多的國家\n",
    "\n",
    "### Hints: [隨機產生數值](https://blog.csdn.net/christianashannon/article/details/78867204)"
   ]
  },
  {
   "cell_type": "code",
   "execution_count": 1,
   "metadata": {},
   "outputs": [],
   "source": [
    "import pandas as pd\n",
    "import numpy as np"
   ]
  },
  {
   "cell_type": "code",
   "execution_count": 2,
   "metadata": {},
   "outputs": [
    {
     "name": "stdout",
     "output_type": "stream",
     "text": [
      "     國家    人口\n",
      "0  國家_0  6056\n",
      "1  國家_1  4289\n",
      "2  國家_2   927\n",
      "3  國家_3    23\n",
      "4  國家_4  6227\n",
      "5  國家_5  7127\n",
      "6  國家_6    18\n",
      "7  國家_7  7821\n"
     ]
    }
   ],
   "source": [
    "# 資料數量\n",
    "count = np.random.randint(6, 10)\n",
    "# 國家列表\n",
    "country_list = ['國家_{0}'.format(str(index)) for index in range(count)]\n",
    "# 人口數\n",
    "population = np.random.randint(10000, size=count)\n",
    "\n",
    "data = {'國家': country_list,\n",
    "        '人口': population}\n",
    "data = pd.DataFrame(data)\n",
    "\n",
    "print(data)"
   ]
  },
  {
   "cell_type": "code",
   "execution_count": 3,
   "metadata": {},
   "outputs": [
    {
     "name": "stdout",
     "output_type": "stream",
     "text": [
      "人口數最多的國家: 國家_7, 人口數: 7821\n"
     ]
    }
   ],
   "source": [
    "# 找到最大欄位置的 id\n",
    "population_max_id = data['人口'].idxmax()\n",
    "# 取得資料結果\n",
    "data_result = data.loc[population_max_id]\n",
    "\n",
    "print('人口數最多的國家: {0}, 人口數: {1}'.format(data_result['國家'], data_result['人口']))"
   ]
  }
 ],
 "metadata": {
  "kernelspec": {
   "display_name": "Python 3",
   "language": "python",
   "name": "python3"
  },
  "language_info": {
   "codemirror_mode": {
    "name": "ipython",
    "version": 3
   },
   "file_extension": ".py",
   "mimetype": "text/x-python",
   "name": "python",
   "nbconvert_exporter": "python",
   "pygments_lexer": "ipython3",
   "version": "3.7.0"
  }
 },
 "nbformat": 4,
 "nbformat_minor": 2
}
